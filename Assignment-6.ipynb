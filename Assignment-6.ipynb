{
 "cells": [
  {
   "cell_type": "markdown",
   "id": "433606b7",
   "metadata": {},
   "source": [
    "# Q1. What are keywords in python? Using the keyword library, print all the python keywords.\n",
    "\n",
    "\n",
    "Ans - eywords are reserved words that have predefined meanings and cannot be used as identifiers (e.g., variable names, function names, class names). These keywords are part of the Python language syntax and are used to define the structure and flow of code"
   ]
  },
  {
   "cell_type": "code",
   "execution_count": 4,
   "id": "cd1a0155",
   "metadata": {},
   "outputs": [
    {
     "name": "stdout",
     "output_type": "stream",
     "text": [
      "['False', 'None', 'True', 'and', 'as', 'assert', 'async', 'await', 'break', 'class', 'continue', 'def', 'del', 'elif', 'else', 'except', 'finally', 'for', 'from', 'global', 'if', 'import', 'in', 'is', 'lambda', 'nonlocal', 'not', 'or', 'pass', 'raise', 'return', 'try', 'while', 'with', 'yield']\n"
     ]
    }
   ],
   "source": [
    "import keyword\n",
    "all_keywords = keyword.kwlist\n",
    "# Print all the keywords\n",
    "print(all_keywords)"
   ]
  },
  {
   "cell_type": "markdown",
   "id": "f272ef00",
   "metadata": {},
   "source": [
    "# Q2. What are the rules to create variables in python?\n",
    "\n",
    "Ans - variables are used to store data values. To create valid variables\n",
    "1. Valid Name Characters\n",
    "2. Case Sensitivity\n",
    "3. Keywords\n",
    "4. Convention  etc.\n"
   ]
  },
  {
   "cell_type": "code",
   "execution_count": 5,
   "id": "4cf88eea",
   "metadata": {},
   "outputs": [],
   "source": [
    "age = 25\n",
    "name = \"kashish\"\n",
    "_underscore_variable = 42\n",
    "first_name = \"honey\"\n",
    "is_student = True"
   ]
  },
  {
   "cell_type": "markdown",
   "id": "dcea1972",
   "metadata": {},
   "source": [
    "# Q3. What are the standards and conventions followed for the nomenclature of variables in python to improve code readability and maintainability?\n",
    "\n",
    "Ans - standard naming conventions is essential to improve code readability and maintainability. Consistent and descriptive variable names make your code more understandable, especially when collaborating with other developers or revisiting your code after some time\n",
    "1. Use Descriptive Names\n",
    "2. Use Camel Case for Variables\n",
    "3. Use Lowercase for Function and Method Names\n",
    "4. Constants in UPPERCASE\n",
    "5. Private Variables   etc."
   ]
  },
  {
   "cell_type": "markdown",
   "id": "77fbdfb9",
   "metadata": {},
   "source": [
    "# Q4. What will happen if a keyword is used as a variable name?\n",
    "\n",
    "Ans - If you use a keyword as a variable name in Python, it will result in a syntax error. Python keywords are reserved words that have predefined meanings and cannot be used as identifiers (such as variable names, function names, or class names). When you try to use a keyword as a variable name, Python will raise a syntax error to prevent potential conflicts and confusion in the code."
   ]
  },
  {
   "cell_type": "markdown",
   "id": "32f38fd6",
   "metadata": {},
   "source": [
    "# Q5. For what purpose def keyword is used?\n",
    "\n",
    "Ans - def keyword in Python is used to define a user-defined function. Functions are blocks of organized and reusable code that perform a specific task"
   ]
  },
  {
   "cell_type": "markdown",
   "id": "a428d82c",
   "metadata": {},
   "source": [
    "# Q6. What is the operation of this special character ‘\\’?\n",
    "\n",
    "Ans -  special character '\\', called the backslash, is used as an escape character in Python. It has specific functions depending on the character that follows it. When a backslash is used before certain characters, it alters their interpretation and allows you to include special characters within strings or represent non-printable characters. This process is known as \"escaping\" the character."
   ]
  },
  {
   "cell_type": "markdown",
   "id": "71fd5c37",
   "metadata": {},
   "source": [
    "# Q7. Give an example of the following conditions:\n",
    "\n",
    "(i) Homogeneous list---   A homogeneous list contains elements of the same data type. In Python, lists can hold elements of different data types, but in a homogeneous list, all elements are of the same data type.\n",
    "\n",
    "(ii) Heterogeneous set------ A heterogeneous set contains elements of different data types. In Python, sets are unordered collections of unique elements, and they can hold elements of various data types.\n",
    "\n",
    "\n",
    "(iii) Homogeneous tuple----- homogeneous tuple contains elements of the same data type. Tuples are similar to lists, but they are immutable, meaning their elements cannot be changed after creation. Like lists, tuples can also be homogeneous or heterogeneous.\n",
    "\n"
   ]
  },
  {
   "cell_type": "code",
   "execution_count": 6,
   "id": "fccc0c6a",
   "metadata": {},
   "outputs": [
    {
     "name": "stdout",
     "output_type": "stream",
     "text": [
      "[1, 2, 3, 4, 5]\n"
     ]
    }
   ],
   "source": [
    "# Homogeneous list of integers\n",
    "int_list = [1, 2, 3, 4, 5]\n",
    "print(int_list)"
   ]
  },
  {
   "cell_type": "code",
   "execution_count": 8,
   "id": "8331d406",
   "metadata": {},
   "outputs": [
    {
     "data": {
      "text/plain": [
       "{1, 2.5, False, 'hello'}"
      ]
     },
     "execution_count": 8,
     "metadata": {},
     "output_type": "execute_result"
    }
   ],
   "source": [
    "# Heterogeneous set with integers, strings, and booleans\n",
    "heterogeneous_set = {1, \"hello\", True, 2.5, False}\n",
    "heterogeneous_set"
   ]
  },
  {
   "cell_type": "code",
   "execution_count": 9,
   "id": "49c9934a",
   "metadata": {},
   "outputs": [
    {
     "data": {
      "text/plain": [
       "(10, 20, 30, 40, 50)"
      ]
     },
     "execution_count": 9,
     "metadata": {},
     "output_type": "execute_result"
    }
   ],
   "source": [
    "int_tuple = (10, 20, 30, 40, 50)\n",
    "int_tuple"
   ]
  },
  {
   "cell_type": "markdown",
   "id": "a8f31b98",
   "metadata": {},
   "source": [
    "# Q8. Explain the mutable and immutable data types with proper explanation & examples.\n",
    "\n",
    "Ans- immutable data type is one whose values cannot be changed after creation. When you modify an immutable object, Python creates a new object with the updated value, rather than modifying the existing one\n",
    "\n",
    "mutable data type is one whose values can be changed after creation. When you modify a mutable object, it directly modifies the existing object without creating a new one. "
   ]
  },
  {
   "cell_type": "code",
   "execution_count": 10,
   "id": "f2beea6a",
   "metadata": {},
   "outputs": [
    {
     "name": "stdout",
     "output_type": "stream",
     "text": [
      "[1, 2, 3]\n",
      "[1, 10, 3]\n",
      "[1, 10, 3, 4]\n"
     ]
    }
   ],
   "source": [
    "#mutable\n",
    "my_list = [1, 2, 3]\n",
    "print(my_list) \n",
    "# Modify the list\n",
    "my_list[1] = 10\n",
    "print(my_list)  \n",
    "# Add an element to the list\n",
    "my_list.append(4)\n",
    "print(my_list)"
   ]
  },
  {
   "cell_type": "code",
   "execution_count": 11,
   "id": "308261b4",
   "metadata": {},
   "outputs": [
    {
     "ename": "TypeError",
     "evalue": "'tuple' object does not support item assignment",
     "output_type": "error",
     "traceback": [
      "\u001b[1;31m---------------------------------------------------------------------------\u001b[0m",
      "\u001b[1;31mTypeError\u001b[0m                                 Traceback (most recent call last)",
      "Cell \u001b[1;32mIn[11], line 5\u001b[0m\n\u001b[0;32m      2\u001b[0m my_tuple \u001b[38;5;241m=\u001b[39m (\u001b[38;5;241m10\u001b[39m, \u001b[38;5;241m20\u001b[39m, \u001b[38;5;241m30\u001b[39m)\n\u001b[0;32m      4\u001b[0m \u001b[38;5;66;03m# Attempt to modify an element of the tuple (This will raise an error)\u001b[39;00m\n\u001b[1;32m----> 5\u001b[0m my_tuple[\u001b[38;5;241m1\u001b[39m] \u001b[38;5;241m=\u001b[39m \u001b[38;5;241m25\u001b[39m\n",
      "\u001b[1;31mTypeError\u001b[0m: 'tuple' object does not support item assignment"
     ]
    }
   ],
   "source": [
    "# Create a tuple\n",
    "my_tuple = (10, 20, 30)\n",
    "\n",
    "# Attempt to modify an element of the tuple (This will raise an error)\n",
    "my_tuple[1] = 25"
   ]
  },
  {
   "cell_type": "markdown",
   "id": "90de12b8",
   "metadata": {},
   "source": [
    "# Q9.Write a code to create the given structure using only for loop.\n",
    "\n"
   ]
  },
  {
   "cell_type": "code",
   "execution_count": 13,
   "id": "e08427cd",
   "metadata": {},
   "outputs": [
    {
     "name": "stdout",
     "output_type": "stream",
     "text": [
      "    *\n",
      "   ***\n",
      "  *****\n",
      " *******\n",
      "*********\n"
     ]
    }
   ],
   "source": [
    "n = 5\n",
    "for i in range(1, n+1):\n",
    "    for j in range(n - i):\n",
    "        print(' ', end='')\n",
    "    for k in range(2 * i - 1):\n",
    "        print('*', end='')\n",
    "    print()"
   ]
  },
  {
   "cell_type": "markdown",
   "id": "5e0e459e",
   "metadata": {},
   "source": [
    "# Q.10. Write a code to create the given structure using while loop.\n",
    "\n",
    "Ans- "
   ]
  },
  {
   "cell_type": "code",
   "execution_count": 16,
   "id": "c2827092",
   "metadata": {},
   "outputs": [
    {
     "name": "stdout",
     "output_type": "stream",
     "text": [
      "|||||||\n",
      " |||||\n",
      "  |||\n",
      "   |\n"
     ]
    }
   ],
   "source": [
    "def print_pyramid(rows):\n",
    "    i = rows\n",
    "    spaces = 0\n",
    "    while i >= 1:\n",
    "        print(\" \" * spaces, end=\"\")\n",
    "        for i in range(i):\n",
    "            print(\"|\", end=\"\")\n",
    "        print()\n",
    "        i -= 1\n",
    "        spaces += 1\n",
    "\n",
    "print_pyramid(7)"
   ]
  },
  {
   "cell_type": "code",
   "execution_count": null,
   "id": "89cd0e47",
   "metadata": {},
   "outputs": [],
   "source": []
  }
 ],
 "metadata": {
  "kernelspec": {
   "display_name": "Python 3 (ipykernel)",
   "language": "python",
   "name": "python3"
  },
  "language_info": {
   "codemirror_mode": {
    "name": "ipython",
    "version": 3
   },
   "file_extension": ".py",
   "mimetype": "text/x-python",
   "name": "python",
   "nbconvert_exporter": "python",
   "pygments_lexer": "ipython3",
   "version": "3.10.9"
  }
 },
 "nbformat": 4,
 "nbformat_minor": 5
}
