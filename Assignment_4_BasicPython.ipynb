{
 "cells": [
  {
   "cell_type": "markdown",
   "id": "32d629a7",
   "metadata": {},
   "source": [
    "# Q1. What exactly is []?\n",
    "\n",
    "Ans - it is a empty list.A list is a data structure that can hold multiple values or elements. there are different-2 method to append, extend, etc. "
   ]
  },
  {
   "cell_type": "code",
   "execution_count": 4,
   "id": "77856400",
   "metadata": {},
   "outputs": [
    {
     "name": "stdout",
     "output_type": "stream",
     "text": [
      "[]\n"
     ]
    }
   ],
   "source": [
    "list=[]\n",
    "print(list)"
   ]
  },
  {
   "cell_type": "code",
   "execution_count": 5,
   "id": "53cdb5de",
   "metadata": {},
   "outputs": [
    {
     "name": "stdout",
     "output_type": "stream",
     "text": [
      "[2]\n"
     ]
    }
   ],
   "source": [
    "list.append(2)\n",
    "print(list)"
   ]
  },
  {
   "cell_type": "markdown",
   "id": "83b051d6",
   "metadata": {},
   "source": [
    "# Q2. In a list of values stored in a variable called spam, how would you assign the value 'hello' as the third value?\n",
    "third value? (Assume [2, 4, 6, 8, 10] are in spam.)\n",
    "\n"
   ]
  },
  {
   "cell_type": "code",
   "execution_count": 12,
   "id": "d75dfd07",
   "metadata": {},
   "outputs": [
    {
     "name": "stdout",
     "output_type": "stream",
     "text": [
      "[2, 4, 'hello', 8, 10]\n"
     ]
    }
   ],
   "source": [
    "spam = [2, 4, 6, 8, 10] \n",
    "spam[2] = 'hello'  \n",
    "print(spam)"
   ]
  },
  {
   "cell_type": "code",
   "execution_count": 13,
   "id": "86449fde",
   "metadata": {},
   "outputs": [],
   "source": [
    "spam = ['a', 'b', 'c', 'd']"
   ]
  },
  {
   "cell_type": "code",
   "execution_count": 14,
   "id": "e1d34884",
   "metadata": {},
   "outputs": [],
   "source": [
    "spam[3] = 'e'"
   ]
  },
  {
   "cell_type": "code",
   "execution_count": 15,
   "id": "067f97e9",
   "metadata": {},
   "outputs": [],
   "source": [
    "spam[1] = 'f'"
   ]
  },
  {
   "cell_type": "code",
   "execution_count": 16,
   "id": "c156b5c3",
   "metadata": {},
   "outputs": [],
   "source": [
    "spam.append('g')\n"
   ]
  },
  {
   "cell_type": "code",
   "execution_count": 17,
   "id": "4a0b84a1",
   "metadata": {},
   "outputs": [
    {
     "name": "stdout",
     "output_type": "stream",
     "text": [
      "['a', 'f', 'c', 'e', 'g']\n"
     ]
    }
   ],
   "source": [
    "print(spam)"
   ]
  },
  {
   "cell_type": "markdown",
   "id": "ed7a76ef",
   "metadata": {},
   "source": [
    "Q3. What is the value of spam[int(int('3' * 2) / 11)]?\n",
    "\n",
    "Ans - \n",
    "The expression int('3' * 2) / 11 evaluates to 33 / 11, which is equal to 3. Therefore, spam[int(int('3' * 2) / 11)] can be simplified to spam[3]."
   ]
  },
  {
   "cell_type": "code",
   "execution_count": 18,
   "id": "9ec1e8c9",
   "metadata": {},
   "outputs": [
    {
     "name": "stdout",
     "output_type": "stream",
     "text": [
      "[3]\n"
     ]
    }
   ],
   "source": [
    "result = [int(int('3' * 2) / 11)]\n",
    "print(result)"
   ]
  },
  {
   "cell_type": "markdown",
   "id": "2fbb7991",
   "metadata": {},
   "source": [
    "# Q4. What is the value of spam[-1]?\n",
    "\n",
    "Ans - it is a negative indexing . it is starting from last index.\n",
    "\n",
    "ex - spam= [2, 4, 6, 8, 10]\n",
    "spam[-1] = 10\n"
   ]
  },
  {
   "cell_type": "code",
   "execution_count": 21,
   "id": "dcb5455a",
   "metadata": {},
   "outputs": [
    {
     "data": {
      "text/plain": [
       "10"
      ]
     },
     "execution_count": 21,
     "metadata": {},
     "output_type": "execute_result"
    }
   ],
   "source": [
    "spam= [2, 4, 6, 8, 10]\n",
    "spam[-1]"
   ]
  },
  {
   "cell_type": "markdown",
   "id": "945b5395",
   "metadata": {},
   "source": [
    "# Q5. What is the value of spam[:2]?\n",
    "\n",
    "Ans -  the element at index 2. This is known as slicing.\n",
    "spam= [2, 4, 6, 8, 10]\n",
    "spam[:2]\n",
    "Ans = [2, 4]\n"
   ]
  },
  {
   "cell_type": "code",
   "execution_count": 22,
   "id": "15462eb7",
   "metadata": {},
   "outputs": [
    {
     "data": {
      "text/plain": [
       "[2, 4]"
      ]
     },
     "execution_count": 22,
     "metadata": {},
     "output_type": "execute_result"
    }
   ],
   "source": [
    "spam= [2, 4, 6, 8, 10]\n",
    "spam[:2]"
   ]
  },
  {
   "cell_type": "markdown",
   "id": "98c1d6ad",
   "metadata": {},
   "source": [
    "# Let's pretend bacon has the list [3.14, 'cat,' 11, 'cat,' True] for the next three questions.\n",
    "\n"
   ]
  },
  {
   "cell_type": "markdown",
   "id": "3f3507e5",
   "metadata": {},
   "source": [
    "# Q6. What is the value of bacon.index('cat')?\n",
    "Ans - it is index 1\n"
   ]
  },
  {
   "cell_type": "code",
   "execution_count": 23,
   "id": "3c51b7d6",
   "metadata": {},
   "outputs": [
    {
     "name": "stdout",
     "output_type": "stream",
     "text": [
      "1\n"
     ]
    }
   ],
   "source": [
    "bacon = [3.14, 'cat', 11, 'cat', True]\n",
    "index = bacon.index('cat')\n",
    "print(index)"
   ]
  },
  {
   "cell_type": "markdown",
   "id": "be729808",
   "metadata": {},
   "source": [
    "# Q7.How does bacon.append(99) change the look of the list value in bacon?\n",
    "\n",
    "Ans - bacon.append gives the [[3.14, 'cat', 11, 'cat', True, 99]]\n"
   ]
  },
  {
   "cell_type": "code",
   "execution_count": 24,
   "id": "e20864d2",
   "metadata": {},
   "outputs": [
    {
     "name": "stdout",
     "output_type": "stream",
     "text": [
      "[3.14, 'cat', 11, 'cat', True, 99]\n"
     ]
    }
   ],
   "source": [
    "bacon = [3.14, 'cat', 11, 'cat', True]\n",
    "bacon.append(99)\n",
    "print(bacon)"
   ]
  },
  {
   "cell_type": "markdown",
   "id": "507cd0af",
   "metadata": {},
   "source": [
    "# Q8. How does bacon.remove('cat') change the look of the list in bacon?\n"
   ]
  },
  {
   "cell_type": "code",
   "execution_count": 25,
   "id": "24351c37",
   "metadata": {},
   "outputs": [
    {
     "name": "stdout",
     "output_type": "stream",
     "text": [
      "[3.14, 11, 'cat', True]\n"
     ]
    }
   ],
   "source": [
    "bacon = [3.14, 'cat', 11, 'cat', True]\n",
    "bacon.remove('cat')\n",
    "print(bacon)"
   ]
  },
  {
   "cell_type": "markdown",
   "id": "509165c5",
   "metadata": {},
   "source": [
    "# Q9. What are the list concatenation and list replication operators?\n",
    "\n",
    "Ans- the list concatenation operator is +, and the list replication operator is *.\n",
    "\n",
    "list concatanation  + operator allows you to concatenate two or more lists together, creating a new list that contains all the elements from the concatenated lists in the order they appear.\n",
    "\n",
    "list replication  * operator allows you to replicate a list by a specified number of times, creating a new list that contains the repeated elements.\n"
   ]
  },
  {
   "cell_type": "code",
   "execution_count": 27,
   "id": "cbb9eadf",
   "metadata": {},
   "outputs": [
    {
     "name": "stdout",
     "output_type": "stream",
     "text": [
      "[1, 2, 3, 4, 5, 6]\n"
     ]
    }
   ],
   "source": [
    "#list concatanation\n",
    "list1 = [1, 2, 3]\n",
    "list2 = [4, 5, 6]\n",
    "concatenated = list1 + list2\n",
    "print(concatenated)"
   ]
  },
  {
   "cell_type": "code",
   "execution_count": 29,
   "id": "ba01e5b9",
   "metadata": {},
   "outputs": [
    {
     "name": "stdout",
     "output_type": "stream",
     "text": [
      "[1, 2, 3, 1, 2, 3, 1, 2, 3]\n"
     ]
    }
   ],
   "source": [
    "#list replication\n",
    "list1 = [1, 2, 3]\n",
    "replicated = list1 * 3\n",
    "print(replicated)"
   ]
  },
  {
   "cell_type": "markdown",
   "id": "7a02fcf1",
   "metadata": {},
   "source": [
    "# Q10. What is difference between the list methods append() and insert()?\n",
    "\n",
    "Ans - The append() and insert() methods are used to add elements to a list in Python, but they differ in how they add the elements\n",
    "append() method: The append() method is used to add an element to the end of a list.\n",
    "insert() method: The insert() method is used to add an element at a specified position in a list."
   ]
  },
  {
   "cell_type": "code",
   "execution_count": 30,
   "id": "eb2d784d",
   "metadata": {},
   "outputs": [
    {
     "name": "stdout",
     "output_type": "stream",
     "text": [
      "[1, 2, 3, 4]\n"
     ]
    }
   ],
   "source": [
    "list = [1, 2, 3]\n",
    "list.append(4)\n",
    "print(list)"
   ]
  },
  {
   "cell_type": "code",
   "execution_count": 31,
   "id": "b8f15d85",
   "metadata": {},
   "outputs": [
    {
     "name": "stdout",
     "output_type": "stream",
     "text": [
      "[1, 5, 2, 3]\n"
     ]
    }
   ],
   "source": [
    "list1 = [1, 2, 3]\n",
    "list1.insert(1, 5)\n",
    "print(list1)"
   ]
  },
  {
   "cell_type": "markdown",
   "id": "ba9e2bb2",
   "metadata": {},
   "source": [
    "# Q11. What are the two methods for removing items from a list?\n",
    "\n",
    "Ans - remove() method: 1. The remove() method is used to remove the first occurrence of a specific value from the list.\n",
    "2. It takes a single argument, which is the value to be removed.\n",
    "3. The remove() method searches for the value in the list and removes the first occurrence."
   ]
  },
  {
   "cell_type": "code",
   "execution_count": 32,
   "id": "9e91120b",
   "metadata": {},
   "outputs": [
    {
     "name": "stdout",
     "output_type": "stream",
     "text": [
      "[1, 3, 2, 4]\n"
     ]
    }
   ],
   "source": [
    "list = [1, 2, 3, 2, 4]\n",
    "list.remove(2)\n",
    "print(list)"
   ]
  },
  {
   "cell_type": "markdown",
   "id": "ce3d5f7d",
   "metadata": {},
   "source": [
    "# Q12.  Describe how list values and string values are identical.\n",
    "\n",
    "Ans - Both lists and strings support indexing, allowing you to access individual elements or characters by their position within the sequence. Indexing starts from 0 in both cases.\n",
    "Lists are more versatile and offer a wider range of methods for manipulation and modification, while strings have specific methods for string-specific operations like searching and formatting"
   ]
  },
  {
   "cell_type": "markdown",
   "id": "b2b4dbee",
   "metadata": {},
   "source": [
    "# Q13. What's the difference between tuples and lists?\n",
    "\n",
    "Ans - lists are mutable and provide more flexibility for modification, while tuples are immutable and offer better performance and data integrity in certain scenarios where immutability is desired.\n",
    "list start with [] bracket. tuple start with ()bracket.\n"
   ]
  },
  {
   "cell_type": "code",
   "execution_count": 33,
   "id": "b2acfecd",
   "metadata": {},
   "outputs": [
    {
     "name": "stdout",
     "output_type": "stream",
     "text": [
      "['apple', 'banana', 'orange']\n"
     ]
    }
   ],
   "source": [
    "fruits = ['apple', 'banana', 'orange']  # Creating a list \n",
    "print(fruits)"
   ]
  },
  {
   "cell_type": "code",
   "execution_count": 34,
   "id": "0964e690",
   "metadata": {},
   "outputs": [
    {
     "name": "stdout",
     "output_type": "stream",
     "text": [
      "('apple', 'banana', 'orange')\n"
     ]
    }
   ],
   "source": [
    "fruits = ('apple', 'banana', 'orange') # Creating a tuple\n",
    "print(fruits)"
   ]
  },
  {
   "cell_type": "markdown",
   "id": "50502ff5",
   "metadata": {},
   "source": [
    "# Q14. How do you type a tuple value that only contains the integer 42?\n",
    "\n",
    "Ans - create a tuple value that only contains the integer 42, you can enclose the integer within parentheses. \n"
   ]
  },
  {
   "cell_type": "code",
   "execution_count": 37,
   "id": "8ff9ef51",
   "metadata": {},
   "outputs": [
    {
     "name": "stdout",
     "output_type": "stream",
     "text": [
      "(42,)\n"
     ]
    }
   ],
   "source": [
    "tuple = (42,)\n",
    "print(tuple)"
   ]
  },
  {
   "cell_type": "markdown",
   "id": "5dc41445",
   "metadata": {},
   "source": [
    "# Q15. How do you get a list value's tuple form? How do you get a tuple value's list form?\n",
    "\n",
    "Ans - To convert a list value into its tuple form, you can use the tuple() function. Similarly, to convert a tuple value into its list form, you can use the list() function.\n",
    "\n",
    "my_tuple = (1, 2, 3)\n",
    "converted_list = list(my_tuple)\n",
    "print(converted_list)\n",
    "\n",
    "my_list = [1, 2, 3, 4, 5]\n",
    "my_tuple = tuple(my_list)\n",
    "print(my_tuple)"
   ]
  },
  {
   "cell_type": "markdown",
   "id": "86a6e7da",
   "metadata": {},
   "source": [
    "# Q16.  Variables that \"contain\" list values are not necessarily lists themselves. Instead, what do they contain?\n",
    "\n",
    "Ans- Variables that \"contain\" list values in Python are actually references to the list objects rather than the lists themselves. In Python, variables are references or pointers to objects stored in memory. So, when you assign a list to a variable, the variable stores the memory address or reference to the actual list object\n"
   ]
  },
  {
   "cell_type": "code",
   "execution_count": 48,
   "id": "8e60661c",
   "metadata": {},
   "outputs": [
    {
     "name": "stdout",
     "output_type": "stream",
     "text": [
      "[1, 2, 3, 4]\n",
      "[1, 2, 3, 4]\n"
     ]
    }
   ],
   "source": [
    "my_list = [1, 2, 3]\n",
    "another_list = my_list\n",
    "\n",
    "another_list.append(4)\n",
    "\n",
    "print(my_list)      \n",
    "print(another_list) \n"
   ]
  },
  {
   "cell_type": "markdown",
   "id": "3309bba8",
   "metadata": {},
   "source": [
    "# Q17. How do you distinguish between copy.copy() and copy.deepcopy()?\n",
    "\n",
    "Ans- copy.copy() (Shallow Copy):\n",
    "\n",
    "copy.copy() creates a shallow copy of an object, including its references to other objects.If the original object contains references to other objects (e.g., nested lists or dictionaries), the new copy will also reference the same nested objects.\n",
    "\n",
    "copy.deepcopy() (Deep Copy):\n",
    "\n",
    "copy.deepcopy() creates a deep copy of an object, including all its nested objects, recursively. It creates an entirely independent copy, duplicating the original object and all its nested objects."
   ]
  },
  {
   "cell_type": "code",
   "execution_count": null,
   "id": "03a379f5",
   "metadata": {},
   "outputs": [],
   "source": []
  }
 ],
 "metadata": {
  "kernelspec": {
   "display_name": "Python 3 (ipykernel)",
   "language": "python",
   "name": "python3"
  },
  "language_info": {
   "codemirror_mode": {
    "name": "ipython",
    "version": 3
   },
   "file_extension": ".py",
   "mimetype": "text/x-python",
   "name": "python",
   "nbconvert_exporter": "python",
   "pygments_lexer": "ipython3",
   "version": "3.10.9"
  }
 },
 "nbformat": 4,
 "nbformat_minor": 5
}
