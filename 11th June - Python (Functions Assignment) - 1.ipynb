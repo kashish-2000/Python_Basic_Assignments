{
 "cells": [
  {
   "cell_type": "markdown",
   "id": "c43649f0",
   "metadata": {},
   "source": [
    "# Q1. What is a lambda function in Python, and how does it differ from a regular function?\n",
    "\n",
    "Ans- lambda function is a small, anonymous function that can have any number of arguments, but can only have one expression. Lambda functions are also known as \"anonymous functions\" because they don't require a formal name like regular functions defined using the def keyword."
   ]
  },
  {
   "cell_type": "code",
   "execution_count": 1,
   "id": "5f30712f",
   "metadata": {},
   "outputs": [],
   "source": [
    "add = lambda x, y: x + y\n",
    "result = add(3, 5)"
   ]
  },
  {
   "cell_type": "markdown",
   "id": "9de6ac52",
   "metadata": {},
   "source": [
    "# Q2. Can a lambda function in Python have multiple arguments? If yes, how can you define and use them?\n",
    "\n",
    "Ans- Yes, a lambda function in Python can have multiple arguments. You can define a lambda function with multiple arguments by separating the arguments with commas and specifying the expression that uses these arguments\n",
    "lambda argument1, argument2, ...: expression\n"
   ]
  },
  {
   "cell_type": "code",
   "execution_count": 2,
   "id": "0ff44f85",
   "metadata": {},
   "outputs": [
    {
     "data": {
      "text/plain": [
       "15"
      ]
     },
     "execution_count": 2,
     "metadata": {},
     "output_type": "execute_result"
    }
   ],
   "source": [
    "multiply = lambda x, y: x * y\n",
    "result = multiply(3, 5)\n",
    "\n",
    "result"
   ]
  },
  {
   "cell_type": "markdown",
   "id": "224ed46d",
   "metadata": {},
   "source": [
    "# Q3. How are lambda functions typically used in Python? Provide an example use case.\n",
    "\n",
    "Ans- lambda function is a small, anonymous function that can have any number of arguments, but can only have one expression. Lambda functions are also known as \"anonymous functions\" \n"
   ]
  },
  {
   "cell_type": "code",
   "execution_count": 6,
   "id": "5098dc0f",
   "metadata": {},
   "outputs": [
    {
     "name": "stdout",
     "output_type": "stream",
     "text": [
      "[4, 8, 12, 16, 20]\n"
     ]
    }
   ],
   "source": [
    "numbers = [1, 2, 3, 4, 5, 6, 7, 8, 9, 10]\n",
    "\n",
    "filtered_numbers = filter(lambda n: n % 2 == 0, numbers)\n",
    "doubled_numbers = map(lambda n: n * 2, filtered_numbers)\n",
    "result = list(doubled_numbers)\n",
    "\n",
    "print(result) "
   ]
  },
  {
   "cell_type": "markdown",
   "id": "5fa2eca4",
   "metadata": {},
   "source": [
    "# Q4.  What are the advantages and limitations of lambda functions compared to regular functions in Python?\n",
    "\n",
    "Ans- Advantages of Lambda Functions:\n",
    "1. Lambda functions allow you to define simple functions in a more compact and concise manner. This can make your code easier to read when the function logic is straightforward.\n",
    "2. Lambda functions are often used inline within other functions or operations. This eliminates the need to define a separate named function, which can improve code organization for small, localized tasks.\n",
    "3.Readability for Simple Tasks: For very simple tasks, the use of lambda functions can improve code readability by keeping the function logic close to where it's used.\n",
    "\n",
    "Limitations of Lambda Functions:\n",
    "1. Single Expression: Lambda functions can only contain a single expression, which limits their usability for more complex functions that involve multiple statements or complex control flow.\n",
    "2. When debugging, lambda functions can be less informative in error messages compared to regular named functions."
   ]
  },
  {
   "cell_type": "markdown",
   "id": "59b051bb",
   "metadata": {},
   "source": [
    "# Q5. Are lambda functions in Python able to access variables defined outside of their own scope? Explain with an example.\n",
    "\n",
    "Ans-Yes, lambda functions in Python can access variables defined outside of their own scope, provided those variables are in the enclosing scope where the lambda function is defined. "
   ]
  },
  {
   "cell_type": "code",
   "execution_count": 10,
   "id": "62de18c5",
   "metadata": {},
   "outputs": [
    {
     "name": "stdout",
     "output_type": "stream",
     "text": [
      "15\n"
     ]
    }
   ],
   "source": [
    "def outer_function():\n",
    "    outer_variable = 10\n",
    "    # Define a lambda function\n",
    "    inner_lambda = lambda x: x + outer_variable\n",
    "    return inner_lambda\n",
    "lambda_instance = outer_function()\n",
    "\n",
    "result = lambda_instance(5) \n",
    "print(result)"
   ]
  },
  {
   "cell_type": "markdown",
   "id": "4ddec8f4",
   "metadata": {},
   "source": [
    "# Q6. Write a lambda function to calculate the square of a given number."
   ]
  },
  {
   "cell_type": "code",
   "execution_count": 11,
   "id": "954ccf5a",
   "metadata": {},
   "outputs": [
    {
     "data": {
      "text/plain": [
       "<function __main__.<lambda>(x)>"
      ]
     },
     "execution_count": 11,
     "metadata": {},
     "output_type": "execute_result"
    }
   ],
   "source": [
    "square = lambda x: x ** 2\n",
    "square"
   ]
  },
  {
   "cell_type": "code",
   "execution_count": 13,
   "id": "bb94ca47",
   "metadata": {},
   "outputs": [
    {
     "data": {
      "text/plain": [
       "25"
      ]
     },
     "execution_count": 13,
     "metadata": {},
     "output_type": "execute_result"
    }
   ],
   "source": [
    "result = square(5)\n",
    "result"
   ]
  },
  {
   "cell_type": "markdown",
   "id": "86b25446",
   "metadata": {},
   "source": [
    "# Q7. Create a lambda function to find the maximum value in a list of integers.\n",
    "\n",
    "Ans- "
   ]
  },
  {
   "cell_type": "code",
   "execution_count": 17,
   "id": "fcb57d50",
   "metadata": {},
   "outputs": [],
   "source": [
    "find_max = lambda lst: max(lst)\n",
    "numbers = [12, 45, 67, 23, 89, 34, 56]\n",
    "max_value = find_max(numbers) "
   ]
  },
  {
   "cell_type": "code",
   "execution_count": 18,
   "id": "42d7a35c",
   "metadata": {},
   "outputs": [
    {
     "data": {
      "text/plain": [
       "89"
      ]
     },
     "execution_count": 18,
     "metadata": {},
     "output_type": "execute_result"
    }
   ],
   "source": [
    "max_value"
   ]
  },
  {
   "cell_type": "markdown",
   "id": "3e80fffc",
   "metadata": {},
   "source": [
    "# Q8.Implement a lambda function to filter out all the even numbers from a list of integers."
   ]
  },
  {
   "cell_type": "code",
   "execution_count": 19,
   "id": "8d452345",
   "metadata": {},
   "outputs": [],
   "source": [
    "filter_even = lambda lst: list(filter(lambda x: x % 2 == 0, lst))\n"
   ]
  },
  {
   "cell_type": "code",
   "execution_count": 21,
   "id": "b622c77b",
   "metadata": {},
   "outputs": [
    {
     "data": {
      "text/plain": [
       "[12, 34, 56]"
      ]
     },
     "execution_count": 21,
     "metadata": {},
     "output_type": "execute_result"
    }
   ],
   "source": [
    "numbers = [12, 45, 67, 23, 89, 34, 56]\n",
    "even_numbers = filter_even(numbers) \n",
    "even_numbers"
   ]
  },
  {
   "cell_type": "markdown",
   "id": "52e8e090",
   "metadata": {},
   "source": [
    "# Q9. Write a lambda function to sort a list of strings in ascending order based on the length of each string.\n",
    "\n"
   ]
  },
  {
   "cell_type": "code",
   "execution_count": 25,
   "id": "23e291e7",
   "metadata": {},
   "outputs": [],
   "source": [
    "sort_by_length = lambda lst: sorted(lst, key=lambda s: len(s))\n",
    "words = [\"apple\", \"banana\", \"cherry\", \"date\", \"fig\"]\n",
    "sorted_words = sort_by_length(words)"
   ]
  },
  {
   "cell_type": "code",
   "execution_count": 26,
   "id": "82a1b6eb",
   "metadata": {},
   "outputs": [
    {
     "data": {
      "text/plain": [
       "['fig', 'date', 'apple', 'banana', 'cherry']"
      ]
     },
     "execution_count": 26,
     "metadata": {},
     "output_type": "execute_result"
    }
   ],
   "source": [
    "sorted_words"
   ]
  },
  {
   "cell_type": "markdown",
   "id": "841545da",
   "metadata": {},
   "source": [
    "# Q10. Create a lambda function that takes two lists as input and returns a new list containing the common elements between the two lists."
   ]
  },
  {
   "cell_type": "code",
   "execution_count": 28,
   "id": "849dcdd6",
   "metadata": {},
   "outputs": [],
   "source": [
    "find_common = lambda list1, list2: list(filter(lambda x: x in list2, list1))\n"
   ]
  },
  {
   "cell_type": "code",
   "execution_count": 30,
   "id": "b9985fdb",
   "metadata": {},
   "outputs": [],
   "source": [
    "list1 = [1, 2, 3, 4, 5]\n",
    "list2 = [3, 4, 5, 6, 7]\n",
    "common_elements = find_common(list1, list2)"
   ]
  },
  {
   "cell_type": "code",
   "execution_count": 31,
   "id": "fa3f2b79",
   "metadata": {},
   "outputs": [
    {
     "data": {
      "text/plain": [
       "[3, 4, 5]"
      ]
     },
     "execution_count": 31,
     "metadata": {},
     "output_type": "execute_result"
    }
   ],
   "source": [
    "common_elements"
   ]
  },
  {
   "cell_type": "markdown",
   "id": "0e3abb17",
   "metadata": {},
   "source": [
    "# Q11. Write a recursive function to calculate the factorial of a given positive integer."
   ]
  },
  {
   "cell_type": "code",
   "execution_count": 32,
   "id": "9fb9fdca",
   "metadata": {},
   "outputs": [
    {
     "name": "stdout",
     "output_type": "stream",
     "text": [
      "120\n"
     ]
    }
   ],
   "source": [
    "def factorial(n):\n",
    "    if n == 0:\n",
    "        return 1\n",
    "    else:\n",
    "        return n * factorial(n - 1)\n",
    "result = factorial(5) \n",
    "print(result)"
   ]
  },
  {
   "cell_type": "markdown",
   "id": "682c9a96",
   "metadata": {},
   "source": [
    "# Q12. Implement a recursive function to compute the nth Fibonacci number."
   ]
  },
  {
   "cell_type": "code",
   "execution_count": 48,
   "id": "63371447",
   "metadata": {},
   "outputs": [
    {
     "name": "stdout",
     "output_type": "stream",
     "text": [
      "8\n"
     ]
    }
   ],
   "source": [
    "def fibonacci(n):\n",
    "    if n <= 0:\n",
    "        return 0\n",
    "    elif n == 1:\n",
    "        return 1\n",
    "    else:\n",
    "        return fibonacci(n - 1) + fibonacci(n - 2)\n",
    "\n",
    "result = fibonacci(6)  \n",
    "print(result)"
   ]
  },
  {
   "cell_type": "markdown",
   "id": "3aac6229",
   "metadata": {},
   "source": [
    "# Q13. Create a recursive function to find the sum of all the elements in a given list."
   ]
  },
  {
   "cell_type": "code",
   "execution_count": 34,
   "id": "b0ccf1ad",
   "metadata": {},
   "outputs": [
    {
     "name": "stdout",
     "output_type": "stream",
     "text": [
      "15\n"
     ]
    }
   ],
   "source": [
    "def sum_recursive(lst):\n",
    "    if not lst:\n",
    "        return 0\n",
    "    else:\n",
    "        return lst[0] + sum_recursive(lst[1:])\n",
    "\n",
    "# Test the function\n",
    "numbers = [1, 2, 3, 4, 5]\n",
    "result = sum_recursive(numbers)  # This will result in 15\n",
    "print(result)"
   ]
  },
  {
   "cell_type": "markdown",
   "id": "ca516ec4",
   "metadata": {},
   "source": [
    "# Q14. Write a recursive function to determine whether a given string is a palindrome."
   ]
  },
  {
   "cell_type": "code",
   "execution_count": 41,
   "id": "59297f80",
   "metadata": {},
   "outputs": [
    {
     "name": "stdout",
     "output_type": "stream",
     "text": [
      "True\n",
      "False\n"
     ]
    }
   ],
   "source": [
    "def is_palindrome(s):\n",
    "    s = s.lower()  # Convert to lowercase for case-insensitive comparison\n",
    "    s = ''.join(filter(str.isalnum, s))  # Remove non-alphanumeric characters\n",
    "\n",
    "    if len(s) <= 1:\n",
    "        return True\n",
    "    else:\n",
    "        return s[0] == s[-1] and is_palindrome(s[1:-1])\n",
    "\n",
    "# Test the function\n",
    "string1 = \"racecar\"\n",
    "string2 = \"hello\"\n",
    "\n",
    "result1 = is_palindrome(string1)  # This will result in True\n",
    "result2 = is_palindrome(string2)  # This will result in False\n",
    "\n",
    "print(result1)\n",
    "print(result2)"
   ]
  },
  {
   "cell_type": "markdown",
   "id": "996ee7f4",
   "metadata": {},
   "source": [
    "# Q15. Implement a recursive function to find the greatest common divisor (GCD) of two positive integers."
   ]
  },
  {
   "cell_type": "code",
   "execution_count": 50,
   "id": "b3331edb",
   "metadata": {},
   "outputs": [
    {
     "name": "stdout",
     "output_type": "stream",
     "text": [
      "6\n"
     ]
    }
   ],
   "source": [
    "def gcd_recursive(a, b):\n",
    "    if b == 0:\n",
    "        return a\n",
    "    else:\n",
    "        return gcd_recursive(b, a % b)\n",
    "\n",
    "# Test the function\n",
    "num1 = 48\n",
    "num2 = 18\n",
    "\n",
    "result = gcd_recursive(num1, num2)  # This will result in 6\n",
    "print(result)\n"
   ]
  },
  {
   "cell_type": "code",
   "execution_count": null,
   "id": "bcb8733d",
   "metadata": {},
   "outputs": [],
   "source": []
  },
  {
   "cell_type": "code",
   "execution_count": null,
   "id": "15eb85b8",
   "metadata": {},
   "outputs": [],
   "source": []
  }
 ],
 "metadata": {
  "kernelspec": {
   "display_name": "Python 3 (ipykernel)",
   "language": "python",
   "name": "python3"
  },
  "language_info": {
   "codemirror_mode": {
    "name": "ipython",
    "version": 3
   },
   "file_extension": ".py",
   "mimetype": "text/x-python",
   "name": "python",
   "nbconvert_exporter": "python",
   "pygments_lexer": "ipython3",
   "version": "3.10.9"
  }
 },
 "nbformat": 4,
 "nbformat_minor": 5
}
