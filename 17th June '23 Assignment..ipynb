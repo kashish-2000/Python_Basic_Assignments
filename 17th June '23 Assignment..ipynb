{
 "cells": [
  {
   "cell_type": "markdown",
   "id": "c04c8932",
   "metadata": {},
   "source": [
    "# Q1. What is the role of try and exception block?\n",
    "\n",
    "Ans- Try Block: It contains the code that may raise an exception.\n",
    "\n",
    "Except Block: It defines how to handle specific exceptions that occur within the \"try\" block."
   ]
  },
  {
   "cell_type": "markdown",
   "id": "efcad6a4",
   "metadata": {},
   "source": [
    "# Q2 What is the syntax for a basic try-except block?\n",
    "\n",
    "Ans- \n"
   ]
  },
  {
   "cell_type": "code",
   "execution_count": null,
   "id": "93af55bd",
   "metadata": {},
   "outputs": [],
   "source": [
    "try:\n",
    "    # Code that may raise an exception\n",
    "    # ...\n",
    "except ExceptionType:\n",
    "    # Code to handle the exception\n",
    "    # ..."
   ]
  },
  {
   "cell_type": "code",
   "execution_count": 7,
   "id": "e12bc068",
   "metadata": {},
   "outputs": [
    {
     "name": "stdout",
     "output_type": "stream",
     "text": [
      "Enter a number: 2\n",
      "Result: 5.0\n"
     ]
    }
   ],
   "source": [
    "try:\n",
    "    x = int(input(\"Enter a number: \"))\n",
    "    result = 10 / x\n",
    "except ZeroDivisionError:\n",
    "    print(\"Error: Division by zero\")\n",
    "else:\n",
    "    print(\"Result:\", result)\n"
   ]
  },
  {
   "cell_type": "markdown",
   "id": "96da2efa",
   "metadata": {},
   "source": [
    "# Q3 What happens if an exception occurs inside a try block and there is no matching except block?\n",
    "\n",
    "Ans- If an exception occurs inside a try block and there is no matching except block, the program will terminate with an error message or traceback, potentially causing a crash. It's important to have appropriate except blocks to handle exceptions or a catch-all except block to prevent program crashes when unexpected exceptions occur."
   ]
  },
  {
   "cell_type": "markdown",
   "id": "cb1e1aa2",
   "metadata": {},
   "source": [
    "# Q4. What is the difference between using a bare except block and specifying a specific exception type?\n",
    "\n",
    "Ans- \n",
    "Using a specific exception type (e.g., except ValueError:) allows you to catch and handle only that particular type of exception and its subclasses. It provides precise control over error handling.\n",
    "\n",
    "Using a bare except: block catches and handles all exceptions, but it is less precise and should be used sparingly. It can make debugging difficult because you don't know which specific exception occurred."
   ]
  },
  {
   "cell_type": "markdown",
   "id": "e8b03935",
   "metadata": {},
   "source": [
    "# Q5.Can you have nested try-except blocks in Python? If yes, then give an example.\n",
    "\n",
    "ANS -  you can have nested try-except blocks in Python. Nested try-except blocks allow you to handle exceptions in a more fine-grained manner, providing specific error handling for different levels of code execution."
   ]
  },
  {
   "cell_type": "code",
   "execution_count": 9,
   "id": "aa68aa1f",
   "metadata": {},
   "outputs": [
    {
     "name": "stdout",
     "output_type": "stream",
     "text": [
      "Enter a numerator: 444\n",
      "Enter a denominator: 34\n",
      "Result: 13.058823529411764\n"
     ]
    }
   ],
   "source": [
    "try:\n",
    "    # Outer try block\n",
    "    numerator = int(input(\"Enter a numerator: \"))\n",
    "    denominator = int(input(\"Enter a denominator: \"))\n",
    "    \n",
    "    try:\n",
    "        # Inner try block\n",
    "        result = numerator / denominator\n",
    "    except ZeroDivisionError:\n",
    "        print(\"Error: Division by zero in the inner try block\")\n",
    "except ValueError:\n",
    "    print(\"Error: Invalid input in the outer try block\")\n",
    "except ZeroDivisionError:\n",
    "    print(\"Error: Division by zero in the outer try block\")\n",
    "else:\n",
    "    print(\"Result:\", result)\n"
   ]
  },
  {
   "cell_type": "markdown",
   "id": "0cf61ebe",
   "metadata": {},
   "source": [
    "# Q6. Can we use multiple exception blocks, if yes then give an example.\n",
    "\n",
    "Ans - \n",
    "Yes, you can use multiple except blocks in Python to handle different types of exceptions. This allows you to specify separate error-handling logic for each exception type. \n",
    "\n"
   ]
  },
  {
   "cell_type": "code",
   "execution_count": 15,
   "id": "77a24902",
   "metadata": {},
   "outputs": [
    {
     "name": "stdout",
     "output_type": "stream",
     "text": [
      "Enter a number: hgh\n",
      "Error: Invalid input. Please enter a valid number.\n"
     ]
    }
   ],
   "source": [
    "try:\n",
    "    x = int(input(\"Enter a number: \"))\n",
    "    result = 10 / x\n",
    "except ZeroDivisionError:\n",
    "    print(\"Error: Division by zero\")\n",
    "except ValueError:\n",
    "    print(\"Error: Invalid input. Please enter a valid number.\")\n",
    "except Exception as e:\n",
    "    print(\"An unexpected error occurred:\", e)\n",
    "else:\n",
    "    print(\"Result:\", result)"
   ]
  },
  {
   "cell_type": "markdown",
   "id": "3203b3aa",
   "metadata": {},
   "source": [
    "# Q7. 7. Write the reason due to which following errors are raised:\n",
    "A) EOFError (End of File Error):Raised when an operation trying to read data reaches the end of a file, and there is no more data to read.\n",
    "\n",
    "b. FloatingPointError:Raised when a floating-point calculation results in an error, such as division by zero or an invalid operation on a floating-point number.\n",
    "\n",
    "c. IndexError: Raised when you try to access an index that is outside the bounds of a list, tuple, or other sequence data structure.\n",
    "\n",
    "d. MemoryError: Raised when the program runs out of available memory (RAM) to allocate for new objects or data structures.\n",
    "\n",
    "e. OverflowError:Raised when a numerical operation results in a value that exceeds the maximum representable value for a numeric type, such as an integer.\n",
    "\n",
    "f. TabError: Raised when there is an issue with the indentation of code, typically involving the mixing of tabs and spaces in an inconsistent manner.\n",
    "\n",
    "g. ValueError:Raised when an operation or function receives an argument of the correct data type but with an inappropriate or invalid value. For example, trying to convert a string that is not a valid integer to an integer using int() will raise a ValueError\n"
   ]
  },
  {
   "cell_type": "markdown",
   "id": "97db36cf",
   "metadata": {},
   "source": [
    "# Q8.  Write code for the following given scenario and add try-exception block to it."
   ]
  },
  {
   "cell_type": "code",
   "execution_count": 17,
   "id": "2fa4ca44",
   "metadata": {},
   "outputs": [
    {
     "name": "stdout",
     "output_type": "stream",
     "text": [
      "Enter the numerator: 56\n",
      "Enter the denominator: 4\n",
      "Result of division: 14.0\n"
     ]
    }
   ],
   "source": [
    "#Program to divide two numbers\n",
    "try:\n",
    "    numerator = float(input(\"Enter the numerator: \"))\n",
    "    denominator = float(input(\"Enter the denominator: \"))\n",
    "    \n",
    "    result = numerator / denominator\n",
    "    print(\"Result of division:\", result)\n",
    "except ZeroDivisionError:\n",
    "    print(\"Error: Division by zero is not allowed.\")\n",
    "except ValueError:\n",
    "    print(\"Error: Invalid input. Please enter valid numeric values.\")"
   ]
  },
  {
   "cell_type": "code",
   "execution_count": 20,
   "id": "df7c9b15",
   "metadata": {},
   "outputs": [
    {
     "name": "stdout",
     "output_type": "stream",
     "text": [
      "Enter a number as a string: 56\n",
      "Integer representation: 56\n"
     ]
    }
   ],
   "source": [
    "#Program to convert a string to an integer\n",
    "try:\n",
    "    str_number = input(\"Enter a number as a string: \")\n",
    "    integer_number = int(str_number)\n",
    "    print(\"Integer representation:\", integer_number)\n",
    "except ValueError:\n",
    "    print(\"Error: Invalid input. Please enter a valid integer in string format.\")"
   ]
  },
  {
   "cell_type": "code",
   "execution_count": 25,
   "id": "bc00985f",
   "metadata": {},
   "outputs": [
    {
     "name": "stdout",
     "output_type": "stream",
     "text": [
      "Enter an index to access: 3\n",
      "Value at index 3 is 4\n"
     ]
    }
   ],
   "source": [
    "# Program to access an element in a list\n",
    "try:\n",
    "    my_list = [1, 2, 3, 4, 5]\n",
    "    index = int(input(\"Enter an index to access: \"))\n",
    "    value = my_list[index]\n",
    "    print(\"Value at index\", index, \"is\", value)\n",
    "except IndexError:\n",
    "    print(\"Error: Index out of range.\")\n",
    "except ValueError:\n",
    "    print(\"Error: Invalid input. Please enter a valid integer index.\")"
   ]
  },
  {
   "cell_type": "code",
   "execution_count": 27,
   "id": "06f817a2",
   "metadata": {},
   "outputs": [
    {
     "name": "stdout",
     "output_type": "stream",
     "text": [
      "Enter a number: 5\n",
      "Result: 2.0\n"
     ]
    }
   ],
   "source": [
    "# Program to handle a specific exception (ValueError)\n",
    "try:\n",
    "    x = int(input(\"Enter a number: \"))\n",
    "    result = 10 / x\n",
    "    print(\"Result:\", result)\n",
    "except ValueError:\n",
    "    print(\"Error: Invalid input. Please enter a valid integer.\")\n",
    "except ZeroDivisionError:\n",
    "    print(\"Error: Division by zero is not allowed.\")\n",
    "    "
   ]
  },
  {
   "cell_type": "code",
   "execution_count": 28,
   "id": "658d7f4e",
   "metadata": {},
   "outputs": [
    {
     "name": "stdout",
     "output_type": "stream",
     "text": [
      "Enter a number: 2\n",
      "Result: 5.0\n"
     ]
    }
   ],
   "source": [
    "# Program to handle any exception\n",
    "try:\n",
    "    x = int(input(\"Enter a number: \"))\n",
    "    result = 10 / x\n",
    "    print(\"Result:\", result)\n",
    "except Exception as e:\n",
    "    print(\"An error occurred:\", e)"
   ]
  },
  {
   "cell_type": "code",
   "execution_count": null,
   "id": "223f6283",
   "metadata": {},
   "outputs": [],
   "source": []
  }
 ],
 "metadata": {
  "kernelspec": {
   "display_name": "Python 3 (ipykernel)",
   "language": "python",
   "name": "python3"
  },
  "language_info": {
   "codemirror_mode": {
    "name": "ipython",
    "version": 3
   },
   "file_extension": ".py",
   "mimetype": "text/x-python",
   "name": "python",
   "nbconvert_exporter": "python",
   "pygments_lexer": "ipython3",
   "version": "3.10.9"
  }
 },
 "nbformat": 4,
 "nbformat_minor": 5
}
