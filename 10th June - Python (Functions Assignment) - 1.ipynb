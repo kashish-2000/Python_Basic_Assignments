{
 "cells": [
  {
   "cell_type": "markdown",
   "id": "39efe38c",
   "metadata": {},
   "source": [
    "# Q1. In Python, what is the difference between a built-in function and a user-defined function? Provide an example of each.\n",
    "\n",
    "Ans -Built-in functions are part of the Python language itself and are available for use without the need to define them. These functions are provided by the Python standard library and cover a wide range of tasks\n",
    "\n",
    "User-defined Functions:\n",
    "User-defined functions are functions that you create yourself to perform specific tasks or computations. They allow you to encapsulate a block of code into a reusable function that you can call from different parts of your program. User-defined functions enhance code organization and readability."
   ]
  },
  {
   "cell_type": "code",
   "execution_count": 2,
   "id": "470f03e5",
   "metadata": {},
   "outputs": [
    {
     "name": "stdout",
     "output_type": "stream",
     "text": [
      "5\n"
     ]
    }
   ],
   "source": [
    "# Using the built-in len() function\n",
    "my_list = [1, 2, 3, 4, 5]\n",
    "length = len(my_list)\n",
    "print(length) "
   ]
  },
  {
   "cell_type": "code",
   "execution_count": 3,
   "id": "bce495c8",
   "metadata": {},
   "outputs": [
    {
     "name": "stdout",
     "output_type": "stream",
     "text": [
      "25\n"
     ]
    }
   ],
   "source": [
    "# built\n",
    "def square(x):\n",
    "    return x ** 2\n",
    "# Using the user-defined function\n",
    "result = square(5)\n",
    "print(result)  "
   ]
  },
  {
   "cell_type": "markdown",
   "id": "8a0ca23c",
   "metadata": {},
   "source": [
    "# Q2. How can you pass arguments to a function in Python? Explain the difference between positional arguments and keyword arguments.\n",
    "\n",
    "\n",
    "Ans- In Python, you can pass arguments to a function when you call it. Arguments are values that you provide to the function so it can perform its tasks. There are two main ways to pass arguments to a function: positional arguments and keyword arguments.\n",
    "\n",
    "Positional Arguments:\n",
    "Positional arguments are passed to a function based on their position or order in the function call. The function's parameter list defines the order and names of the arguments it expects. When you call the function, you provide values for these arguments in the same order as defined in the function's parameter list.\n",
    "\n",
    "Keyword Arguments:\n",
    "Keyword arguments are passed to a function using the argument name followed by the value. This allows you to specify the argument names explicitly, which can improve code readability and also enable you to provide arguments in a different order from their definition in the function."
   ]
  },
  {
   "cell_type": "markdown",
   "id": "cd2f1c31",
   "metadata": {},
   "source": [
    "# Q3. What is the purpose of the return statement in a function? Can a function have multiple return statements? Explain with an example.\n",
    "\n",
    "Ans- The return statement in a function serves the purpose of specifying the value or values that the function should produce as its result when it is called. It allows a function to compute a value and then provide that value back to the calling code for further use or processing. The return statement also terminates the function's execution, so any code after the return statement within the function will not be executed."
   ]
  },
  {
   "cell_type": "code",
   "execution_count": 4,
   "id": "7696139e",
   "metadata": {},
   "outputs": [
    {
     "name": "stdout",
     "output_type": "stream",
     "text": [
      "5.0\n",
      "Cannot divide by zero\n"
     ]
    }
   ],
   "source": [
    "def divide(a, b):\n",
    "    if b == 0:\n",
    "        return \"Cannot divide by zero\"\n",
    "    else:\n",
    "        return a / b\n",
    "\n",
    "result1 = divide(10, 2)\n",
    "print(result1)  # Output: 5.0\n",
    "\n",
    "result2 = divide(10, 0)\n",
    "print(result2) "
   ]
  },
  {
   "cell_type": "markdown",
   "id": "3e677276",
   "metadata": {},
   "source": [
    "# Q4. What are lambda functions in Python? How are they different from regular functions? Provide an example where a lambda function can be useful.\n",
    "\n",
    "Ans - Lambda functions in Python are a way to create small, anonymous, or nameless functions. They are also known as lambda expressions. Unlike regular functions created using the def keyword, lambda functions are defined using the lambda keyword, and they can have only one expression. Lambda functions are commonly used for simple operations where defining a full function using def might be overkill."
   ]
  },
  {
   "cell_type": "code",
   "execution_count": 5,
   "id": "6a3df38d",
   "metadata": {},
   "outputs": [
    {
     "name": "stdout",
     "output_type": "stream",
     "text": [
      "25\n",
      "25\n"
     ]
    }
   ],
   "source": [
    "def square(x):\n",
    "    return x ** 2\n",
    "\n",
    "# Lambda function\n",
    "square_lambda = lambda x: x ** 2\n",
    "\n",
    "print(square(5))         \n",
    "print(square_lambda(5)) "
   ]
  },
  {
   "cell_type": "markdown",
   "id": "fe514ba9",
   "metadata": {},
   "source": [
    "# Q5.How does the concept of \"scope\" apply to functions in Python? Explain the difference between local scope and global scope.\n",
    "\n",
    "Ans - In Python, \"scope\" refers to the region of the code where a particular name (variable, function, class, etc.) is accessible or visible. It defines the context in which a name can be referenced and manipulated. \n",
    "\n",
    "Local scope refers to the innermost level of scope, typically associated with a function. Variables defined within a function are said to have a local scope, meaning they are only accessible within that function. These variables are created when the function is called and destroyed when the function exits.\n",
    "\n",
    "Global Scope:\n",
    "Global scope refers to the top-level context of a program, outside of any functions or blocks. Variables that are defined in the global scope are accessible from anywhere in the program, including within functions. "
   ]
  },
  {
   "cell_type": "code",
   "execution_count": 7,
   "id": "2d37e6dd",
   "metadata": {},
   "outputs": [
    {
     "name": "stdout",
     "output_type": "stream",
     "text": [
      "10\n"
     ]
    }
   ],
   "source": [
    "def my_function():\n",
    "    x = 10  # x has local scope within the function\n",
    "    print(x)\n",
    "\n",
    "my_function()"
   ]
  },
  {
   "cell_type": "code",
   "execution_count": 1,
   "id": "cb665ecb",
   "metadata": {},
   "outputs": [
    {
     "name": "stdout",
     "output_type": "stream",
     "text": [
      "20\n",
      "25\n"
     ]
    }
   ],
   "source": [
    "global_var = 20  # This is a global variable\n",
    "\n",
    "def modify_global():\n",
    "    global global_var  # Declare that we're modifying the global variable\n",
    "    global_var += 5\n",
    "\n",
    "print(global_var)  # Output: 20\n",
    "modify_global()\n",
    "print(global_var) "
   ]
  },
  {
   "cell_type": "markdown",
   "id": "f91b56d4",
   "metadata": {},
   "source": [
    "# Q6. How can you use the \"return\" statement in a Python function to return multiple values?\n",
    "\n",
    "Ans -return statement in a function to return multiple values by separating them with commas or by using data structures like tuples or lists"
   ]
  },
  {
   "cell_type": "code",
   "execution_count": 2,
   "id": "ce460adf",
   "metadata": {},
   "outputs": [
    {
     "name": "stdout",
     "output_type": "stream",
     "text": [
      "(10, 20, 30)\n"
     ]
    }
   ],
   "source": [
    "def multiple_values():\n",
    "    x = 10\n",
    "    y = 20\n",
    "    z = 30\n",
    "    return x, y, z\n",
    "\n",
    "result = multiple_values()\n",
    "print(result)"
   ]
  },
  {
   "cell_type": "code",
   "execution_count": 3,
   "id": "c96ada93",
   "metadata": {},
   "outputs": [
    {
     "name": "stdout",
     "output_type": "stream",
     "text": [
      "(10, 20, 30)\n"
     ]
    }
   ],
   "source": [
    "def multiple_values():\n",
    "    x = 10\n",
    "    y = 20\n",
    "    z = 30\n",
    "    return (x, y, z)\n",
    "\n",
    "result = multiple_values()\n",
    "print(result)"
   ]
  },
  {
   "cell_type": "markdown",
   "id": "2aced679",
   "metadata": {},
   "source": [
    "# Q7. What is the difference between the \"pass by value\" and \"pass by reference\" concepts when it comes to function arguments in Python?\n",
    "\n",
    "Ans-  \"pass by value\" approach, a copy of the value of the argument is passed to the function. This means that any changes made to the parameter within the function do not affect the original value outside the function.\n",
    "\"pass by reference\" approach, a reference to the memory location of the argument is passed to the function. This allows modifications to the parameter within the function to directly affect the original value outside the function"
   ]
  },
  {
   "cell_type": "code",
   "execution_count": 9,
   "id": "58ed0db2",
   "metadata": {},
   "outputs": [],
   "source": [
    "def modifyValue(x):\n",
    "    x = x + 10;\n",
    "\n",
    "value = 5;\n",
    "modifyValue(value);\n"
   ]
  },
  {
   "cell_type": "markdown",
   "id": "3ac066b4",
   "metadata": {},
   "source": [
    "# Q8. Create a function that can intake integer or decimal value and do following operations:\n",
    "a. Logarithmic function (log x)\n",
    "b. Exponential function (exp(x))\n",
    "c. Power function with base 2 (2x)\n",
    "d. Square root"
   ]
  },
  {
   "cell_type": "code",
   "execution_count": 10,
   "id": "298fdc91",
   "metadata": {},
   "outputs": [
    {
     "name": "stdout",
     "output_type": "stream",
     "text": [
      "Enter a number: 5\n",
      "Logarithmic function (log x): 1.6094379124341003\n",
      "Exponential function (exp(x)): 148.4131591025766\n",
      "Power function with base 2 (2^x): 32.0\n",
      "Square root: 2.23606797749979\n"
     ]
    }
   ],
   "source": [
    "import math\n",
    "\n",
    "def perform_operations(x):\n",
    "    try:\n",
    "        x = float(x)  # Convert input to a floating-point number\n",
    "\n",
    "        log_result = math.log(x)\n",
    "        exp_result = math.exp(x)\n",
    "        power_result = math.pow(2, x)\n",
    "        sqrt_result = math.sqrt(x)\n",
    "\n",
    "        return {\n",
    "            'Logarithmic function (log x)': log_result,\n",
    "            'Exponential function (exp(x))': exp_result,\n",
    "            'Power function with base 2 (2^x)': power_result,\n",
    "            'Square root': sqrt_result\n",
    "        }\n",
    "    except ValueError:\n",
    "        return \"Invalid input. Please provide a valid integer or decimal value.\"\n",
    "\n",
    "# Test the function\n",
    "input_value = input(\"Enter a number: \")\n",
    "results = perform_operations(input_value)\n",
    "for operation, result in results.items():\n",
    "    print(f\"{operation}: {result}\")"
   ]
  },
  {
   "cell_type": "markdown",
   "id": "cc3cd05a",
   "metadata": {},
   "source": [
    "# Q10.Create a function that takes a full name as an argument and returns first name and last name."
   ]
  },
  {
   "cell_type": "code",
   "execution_count": 11,
   "id": "09060a0f",
   "metadata": {},
   "outputs": [
    {
     "name": "stdout",
     "output_type": "stream",
     "text": [
      "Enter your full name: kashish gupta\n",
      "First Name: kashish\n",
      "Last Name: gupta\n"
     ]
    }
   ],
   "source": [
    "def extract_first_last_name(full_name):\n",
    "    name_parts = full_name.split()\n",
    "\n",
    "    if len(name_parts) == 1:\n",
    "        first_name = name_parts[0]\n",
    "        last_name = \"\"\n",
    "    elif len(name_parts) == 2:\n",
    "        first_name = name_parts[0]\n",
    "        last_name = name_parts[1]\n",
    "    else:\n",
    "        first_name = name_parts[0]\n",
    "        last_name = \" \".join(name_parts[1:])\n",
    "\n",
    "    return first_name, last_name\n",
    "\n",
    "# Test the function\n",
    "full_name = input(\"Enter your full name: \")\n",
    "first_name, last_name = extract_first_last_name(full_name)\n",
    "print(f\"First Name: {first_name}\")\n",
    "print(f\"Last Name: {last_name}\")"
   ]
  },
  {
   "cell_type": "code",
   "execution_count": null,
   "id": "9e521276",
   "metadata": {},
   "outputs": [],
   "source": []
  }
 ],
 "metadata": {
  "kernelspec": {
   "display_name": "Python 3 (ipykernel)",
   "language": "python",
   "name": "python3"
  },
  "language_info": {
   "codemirror_mode": {
    "name": "ipython",
    "version": 3
   },
   "file_extension": ".py",
   "mimetype": "text/x-python",
   "name": "python",
   "nbconvert_exporter": "python",
   "pygments_lexer": "ipython3",
   "version": "3.10.9"
  }
 },
 "nbformat": 4,
 "nbformat_minor": 5
}
