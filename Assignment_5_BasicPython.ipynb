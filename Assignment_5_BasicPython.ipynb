{
 "cells": [
  {
   "cell_type": "markdown",
   "id": "7eee07b4",
   "metadata": {},
   "source": [
    "# Q1. What does an empty dictionary&#39;s code look like?\n",
    "\n",
    "Ans -  an empty dictionary can be defined using curly braces {}\n",
    "\n",
    "my_dict = {}"
   ]
  },
  {
   "cell_type": "code",
   "execution_count": 1,
   "id": "0dc3c9bd",
   "metadata": {},
   "outputs": [],
   "source": [
    "my_dict = {}"
   ]
  },
  {
   "cell_type": "markdown",
   "id": "ed447f11",
   "metadata": {},
   "source": [
    "# Q2. What is the value of a dictionary value with the key 'foo' and the value 42?\n",
    "\n",
    "Ans - The value associated with the key 'foo' in a dictionary would be 42. In this case, my_dict is a dictionary with a single key-value pair. The key 'foo' maps to the value 42. You can access this value by using the key 'foo' like this"
   ]
  },
  {
   "cell_type": "code",
   "execution_count": 6,
   "id": "8903f7e5",
   "metadata": {},
   "outputs": [
    {
     "name": "stdout",
     "output_type": "stream",
     "text": [
      "{'foo': 42}\n"
     ]
    }
   ],
   "source": [
    "my_dict = {'foo': 42}\n",
    "print(my_dict)"
   ]
  },
  {
   "cell_type": "code",
   "execution_count": 7,
   "id": "d1224af0",
   "metadata": {},
   "outputs": [
    {
     "name": "stdout",
     "output_type": "stream",
     "text": [
      "42\n"
     ]
    }
   ],
   "source": [
    "print(my_dict['foo'])"
   ]
  },
  {
   "cell_type": "markdown",
   "id": "536e4746",
   "metadata": {},
   "source": [
    "# Q3. What is the most significant distinction between a dictionary and a list?\n",
    "\n",
    "Ans -   Dictionary-\n",
    "A dictionary is an unordered collection of key-value pairs. Each key in the dictionary must be unique, and it is used to access its corresponding value.\n",
    "Dictionaries are unordered, meaning that the order of elements is not preserved. The keys are unique, but they are not stored in any specific order.\n",
    "\n",
    "list - list is an ordered collection of elements. The elements in a list are indexed starting from 0, allowing for sequential access\n",
    "Lists maintain the order of elements as they are inserted. The position of each element in a list is fixed unless modified.\n",
    "\n",
    "    "
   ]
  },
  {
   "cell_type": "markdown",
   "id": "79b55286",
   "metadata": {},
   "source": [
    "# Q4. What happens if you try to access spam['foo'] if spam is {'bar': 100}?\n",
    "\n",
    "\n",
    "Ans- If I try to access spam['foo'] and spam is {'bar': 100}, a KeyError will be raised. This is because the key 'foo' does not exist in the dictionary spam.\n",
    "\n",
    "Python raises a KeyError to indicate that the requested key is not found in the dictionary."
   ]
  },
  {
   "cell_type": "code",
   "execution_count": 8,
   "id": "b9e205c5",
   "metadata": {},
   "outputs": [
    {
     "ename": "KeyError",
     "evalue": "'foo'",
     "output_type": "error",
     "traceback": [
      "\u001b[1;31m---------------------------------------------------------------------------\u001b[0m",
      "\u001b[1;31mKeyError\u001b[0m                                  Traceback (most recent call last)",
      "Cell \u001b[1;32mIn[8], line 2\u001b[0m\n\u001b[0;32m      1\u001b[0m spam \u001b[38;5;241m=\u001b[39m {\u001b[38;5;124m'\u001b[39m\u001b[38;5;124mbar\u001b[39m\u001b[38;5;124m'\u001b[39m: \u001b[38;5;241m100\u001b[39m}\n\u001b[1;32m----> 2\u001b[0m value \u001b[38;5;241m=\u001b[39m \u001b[43mspam\u001b[49m\u001b[43m[\u001b[49m\u001b[38;5;124;43m'\u001b[39;49m\u001b[38;5;124;43mfoo\u001b[39;49m\u001b[38;5;124;43m'\u001b[39;49m\u001b[43m]\u001b[49m\n",
      "\u001b[1;31mKeyError\u001b[0m: 'foo'"
     ]
    }
   ],
   "source": [
    "spam = {'bar': 100}\n",
    "value = spam['foo']"
   ]
  },
  {
   "cell_type": "markdown",
   "id": "610a7884",
   "metadata": {},
   "source": [
    "# Q5. If a dictionary is stored in spam, what is the difference between the expressions 'cat' in spam and 'cat' in spam.keys()?\n",
    "\n",
    "Ans- cat' in spam:\n",
    "\n",
    "This expression checks if the key 'cat' exists directly in the dictionary spam.in the example, 'cat' in spam would evaluate to True because 'cat' is a key in the dictionary.\n",
    "\n",
    "cat in spam.keys():\n",
    "This expression first retrieves the keys of the dictionary spam using the keys() method, which returns a view object containing all the keys of the dictionary. It then checks if the key 'cat' exists within the keys view object.\n",
    "In the example, 'cat' in spam.keys() would also evaluate to True because 'cat' is a key in the dictionary.\n"
   ]
  },
  {
   "cell_type": "code",
   "execution_count": 9,
   "id": "084575e0",
   "metadata": {},
   "outputs": [],
   "source": [
    "spam = {'cat': 42, 'dog': 99, 'bird': 27}"
   ]
  },
  {
   "cell_type": "code",
   "execution_count": 11,
   "id": "0965095c",
   "metadata": {},
   "outputs": [
    {
     "data": {
      "text/plain": [
       "42"
      ]
     },
     "execution_count": 11,
     "metadata": {},
     "output_type": "execute_result"
    }
   ],
   "source": [
    "spam['cat']"
   ]
  },
  {
   "cell_type": "code",
   "execution_count": 14,
   "id": "8cc80058",
   "metadata": {},
   "outputs": [
    {
     "name": "stdout",
     "output_type": "stream",
     "text": [
      "{'cat': 42, 'dog': 99, 'bird': 27}\n"
     ]
    }
   ],
   "source": [
    "print(spam)"
   ]
  },
  {
   "cell_type": "markdown",
   "id": "60aa5615",
   "metadata": {},
   "source": [
    "# Q6. If a dictionary is stored in spam, what is the difference between the expressions 'cat' in spam and 'cat' in spam.values()?\n",
    "\n",
    "Ans-'cat' in spam:\n",
    "\n",
    "This expression checks if the value 'cat' exists in the dictionary spam.If 'cat' is a value associated with any key in the dictionary, the expression evaluates to True. If 'cat' is not present as a value, it evaluates to False.\n",
    "\n",
    "This expression retrieves the values of the dictionary spam using the values() method, which returns a view object containing all the values in the dictionary.It then checks if the value 'cat' exists within the values view object.\n",
    "If 'cat' is found in any of the values, the expression evaluates to True. Otherwise, it evaluates to False.\n"
   ]
  },
  {
   "cell_type": "markdown",
   "id": "2810e0ec",
   "metadata": {},
   "source": [
    "# Q7. What is a shortcut for the following code?\n",
    "if 'color' not in spam:\n",
    "spam['color'] = 'black'\n",
    "\n",
    "Ans- shortcut for the given code can be achieved using the dict.setdefault() method. The setdefault() method allows you to set a default value for a key in a dictionary if the key is not already present. Here's the equivalent code using setdefault():\n"
   ]
  },
  {
   "cell_type": "code",
   "execution_count": 15,
   "id": "8264e384",
   "metadata": {},
   "outputs": [
    {
     "data": {
      "text/plain": [
       "'black'"
      ]
     },
     "execution_count": 15,
     "metadata": {},
     "output_type": "execute_result"
    }
   ],
   "source": [
    "spam.setdefault('color', 'black')"
   ]
  },
  {
   "cell_type": "markdown",
   "id": "fd7a930c",
   "metadata": {},
   "source": [
    "# Q8. How do you \"pretty print\" dictionary values using which module and function?\n",
    "\n",
    "\n",
    "Ans-  \"pretty print\" dictionary values in Python, you can use the pprint module, specifically the pprint() function. The pprint module provides a way to format and display data structures, including dictionaries, in a more readable and organized manner\n",
    "\n"
   ]
  },
  {
   "cell_type": "code",
   "execution_count": 16,
   "id": "367007be",
   "metadata": {},
   "outputs": [
    {
     "name": "stdout",
     "output_type": "stream",
     "text": [
      "{'key1': 'value1', 'key2': 'value2', 'key3': 'value3'}\n"
     ]
    }
   ],
   "source": [
    "import pprint\n",
    "\n",
    "my_dict = {'key1': 'value1', 'key2': 'value2', 'key3': 'value3'}\n",
    "pprint.pprint(my_dict)"
   ]
  },
  {
   "cell_type": "code",
   "execution_count": null,
   "id": "0fca35d3",
   "metadata": {},
   "outputs": [],
   "source": []
  }
 ],
 "metadata": {
  "kernelspec": {
   "display_name": "Python 3 (ipykernel)",
   "language": "python",
   "name": "python3"
  },
  "language_info": {
   "codemirror_mode": {
    "name": "ipython",
    "version": 3
   },
   "file_extension": ".py",
   "mimetype": "text/x-python",
   "name": "python",
   "nbconvert_exporter": "python",
   "pygments_lexer": "ipython3",
   "version": "3.10.9"
  }
 },
 "nbformat": 4,
 "nbformat_minor": 5
}
