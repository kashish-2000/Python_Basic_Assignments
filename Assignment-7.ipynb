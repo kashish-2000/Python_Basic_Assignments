{
 "cells": [
  {
   "cell_type": "markdown",
   "id": "f7d12397",
   "metadata": {},
   "source": [
    "# Q.1. Create two int type variables, apply addition, subtraction, division and multiplications and store the results in variables. Then print the data in the following format by calling the variables:\n",
    "\n",
    "\n",
    "Ans - "
   ]
  },
  {
   "cell_type": "code",
   "execution_count": 6,
   "id": "6a27f525",
   "metadata": {},
   "outputs": [
    {
     "name": "stdout",
     "output_type": "stream",
     "text": [
      "Number 1: 10\n",
      "Number 2: 5\n",
      "Addition Re/sult: 15\n",
      "Subtraction Result: 5\n",
      "Division Result: 2.0\n",
      "Multiplication Result: 50\n"
     ]
    }
   ],
   "source": [
    "# Create two int type variables\n",
    "num1 = 10\n",
    "num2 = 5\n",
    "\n",
    "# addition, subtraction, division, and multiplication operations\n",
    "add_result = num1 + num2\n",
    "sub_result = num1 - num2\n",
    "div_result = num1 / num2\n",
    "mul_result = num1 * num2\n",
    "\n",
    "print(\"Number 1:\", num1)\n",
    "print(\"Number 2:\", num2)\n",
    "print(\"Addition Re/sult:\", add_result)\n",
    "print(\"Subtraction Result:\", sub_result)\n",
    "print(\"Division Result:\", div_result)\n",
    "print(\"Multiplication Result:\", mul_result)"
   ]
  },
  {
   "cell_type": "markdown",
   "id": "03589c75",
   "metadata": {},
   "source": [
    "# Q2 Q.2. What is the difference between the following operators:\n",
    "(i) ‘/’ & ‘//’\n",
    "(ii) ‘**’ & ‘^’"
   ]
  },
  {
   "cell_type": "markdown",
   "id": "75b937b1",
   "metadata": {},
   "source": [
    "(i) '/': The forward slash '/' is the division operator in Python, and it returns the result of the division as a floating-point number. For example:"
   ]
  },
  {
   "cell_type": "code",
   "execution_count": 7,
   "id": "05c33abf",
   "metadata": {},
   "outputs": [
    {
     "name": "stdout",
     "output_type": "stream",
     "text": [
      "3.3333333333333335\n"
     ]
    }
   ],
   "source": [
    "result = 10 / 3\n",
    "print(result)"
   ]
  },
  {
   "cell_type": "markdown",
   "id": "23b411f0",
   "metadata": {},
   "source": [
    "'//': The double forward slash '//' is the floor division operator in Python. It performs the division and rounds down the result to the nearest integer (floor value). It returns an integer result. "
   ]
  },
  {
   "cell_type": "code",
   "execution_count": 8,
   "id": "9250e0de",
   "metadata": {},
   "outputs": [
    {
     "name": "stdout",
     "output_type": "stream",
     "text": [
      "3\n"
     ]
    }
   ],
   "source": [
    "result = 10 // 3\n",
    "print(result)"
   ]
  },
  {
   "cell_type": "markdown",
   "id": "5c761f14",
   "metadata": {},
   "source": [
    "The double asterisk '' is the exponentiation operator in Python. It is used to raise a number to a power"
   ]
  },
  {
   "cell_type": "code",
   "execution_count": 9,
   "id": "28afd258",
   "metadata": {},
   "outputs": [
    {
     "name": "stdout",
     "output_type": "stream",
     "text": [
      "8\n"
     ]
    }
   ],
   "source": [
    "result = 2 ** 3\n",
    "print(result)"
   ]
  },
  {
   "cell_type": "markdown",
   "id": "c471a00f",
   "metadata": {},
   "source": [
    "The caret symbol '^' is not a built-in operator for exponentiation in Python. Instead, it is used for bitwise XOR (exclusive OR) operation between two integers"
   ]
  },
  {
   "cell_type": "code",
   "execution_count": 10,
   "id": "65b35670",
   "metadata": {},
   "outputs": [
    {
     "name": "stdout",
     "output_type": "stream",
     "text": [
      "1\n"
     ]
    }
   ],
   "source": [
    "result = 2 ^ 3\n",
    "print(result)"
   ]
  },
  {
   "cell_type": "markdown",
   "id": "16741232",
   "metadata": {},
   "source": [
    "# Q.3. List the logical operators.\n",
    "\n",
    "Ans - The logical operators in Python are used to perform logical operations on Boolean values (True or False)\n",
    "\n",
    "and: The \"and\" operator returns True if both operands are True, otherwise, it returns False.\n",
    "\n",
    "or: The \"or\" operator returns True if at least one of the operands is True, otherwise, it returns False.\n",
    "\n",
    "not: The \"not\" operator is a unary operator and returns the opposite of the Boolean value. If the operand is True, \"not\" returns False, and if the operand is False, \"not\" returns True."
   ]
  },
  {
   "cell_type": "markdown",
   "id": "12cdf333",
   "metadata": {},
   "source": [
    "# Q4. Explain right shift operator and left shift operator with examples.\n",
    "\n",
    "\n",
    "Ans - The right shift operator shifts the bits of a number to the right by a specified number of positions.The syntax for the right shift operator is x >> y, where 'x' is the number to be shifted, and 'y' is the number of positions to shift.\n",
    "\n",
    "The left shift operator shifts the bits of a number to the left by a specified number of positions. The syntax for the left shift operator is x << y, where 'x' is the number to be shifted, and 'y' is the number of positions to shift."
   ]
  },
  {
   "cell_type": "code",
   "execution_count": 11,
   "id": "56d1a5ba",
   "metadata": {},
   "outputs": [
    {
     "name": "stdout",
     "output_type": "stream",
     "text": [
      "1\n"
     ]
    }
   ],
   "source": [
    "result = 7 >> 2\n",
    "print(result)"
   ]
  },
  {
   "cell_type": "code",
   "execution_count": 12,
   "id": "6049207b",
   "metadata": {},
   "outputs": [
    {
     "name": "stdout",
     "output_type": "stream",
     "text": [
      "40\n"
     ]
    }
   ],
   "source": [
    "result = 5 << 3\n",
    "print(result)"
   ]
  },
  {
   "cell_type": "markdown",
   "id": "703374ba",
   "metadata": {},
   "source": [
    "# Q.5. Create a list containing int type data of length 15. Then write a code to check if 10 is present in the list or not."
   ]
  },
  {
   "cell_type": "code",
   "execution_count": 13,
   "id": "6f27532f",
   "metadata": {},
   "outputs": [
    {
     "name": "stdout",
     "output_type": "stream",
     "text": [
      "10 is present in the list.\n"
     ]
    }
   ],
   "source": [
    "data_list = [5, 8, 10, 15, 20, 25, 30, 35, 40, 45, 50, 55, 60, 65, 70]\n",
    "\n",
    "# Check if 10 is present in the list\n",
    "if 10 in data_list:\n",
    "    print(\"10 is present in the list.\")\n",
    "else:\n",
    "    print(\"10 is not present in the list.\")"
   ]
  },
  {
   "cell_type": "code",
   "execution_count": null,
   "id": "61f6daae",
   "metadata": {},
   "outputs": [],
   "source": []
  }
 ],
 "metadata": {
  "kernelspec": {
   "display_name": "Python 3 (ipykernel)",
   "language": "python",
   "name": "python3"
  },
  "language_info": {
   "codemirror_mode": {
    "name": "ipython",
    "version": 3
   },
   "file_extension": ".py",
   "mimetype": "text/x-python",
   "name": "python",
   "nbconvert_exporter": "python",
   "pygments_lexer": "ipython3",
   "version": "3.10.9"
  }
 },
 "nbformat": 4,
 "nbformat_minor": 5
}
