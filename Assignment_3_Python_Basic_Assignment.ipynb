{
 "cells": [
  {
   "cell_type": "code",
   "execution_count": null,
   "metadata": {
    "id": "THSpS1ymhWNc"
   },
   "outputs": [],
   "source": [
    "Q1"
   ]
  },
  {
   "cell_type": "markdown",
   "metadata": {
    "id": "6ZkxqSN1sn55"
   },
   "source": [
    "Q1. Why are functions advantageous to have in your programs?\n",
    "\n",
    "Ans- functions play a crucial role in promoting code reuse, modularity,readability, and maintainability in the Python programs. They contribute to writing clean, organized, and efficient code, making development and maintenance tasks more manageable."
   ]
  },
  {
   "cell_type": "markdown",
   "metadata": {
    "id": "L5WxWHs2uRsZ"
   },
   "source": [
    "Q2. When does the code in a function run: when its specified or when its called?\n",
    "\n",
    "Ans - function simply creates a block of code that defines its behavior, but the code inside the function will not be executed until the function is called.\n",
    "When you call a function, the program flow jumps to the function's definition, executes the code inside the function block, and then returns to the point where the function was called to continue executing the remaining code."
   ]
  },
  {
   "cell_type": "code",
   "execution_count": 2,
   "metadata": {
    "colab": {
     "base_uri": "https://localhost:8080/"
    },
    "id": "cCR69WwWsqcV",
    "outputId": "9bbe31a3-8caf-410f-dff2-fd30e6a75c6a"
   },
   "outputs": [
    {
     "name": "stdout",
     "output_type": "stream",
     "text": [
      "Before function call\n",
      "Hello, World!\n",
      "After function call\n"
     ]
    }
   ],
   "source": [
    "def greet():\n",
    "    print(\"Hello, World!\")\n",
    "\n",
    "print(\"Before function call\")\n",
    "greet()  # Function call\n",
    "print(\"After function call\")"
   ]
  },
  {
   "cell_type": "markdown",
   "metadata": {
    "id": "uZ_GhBfyvFWH"
   },
   "source": [
    "Q3. What statement creates a function?\n",
    "\n",
    "Ans - In Python, the def statement is used to create a function. It is followed by the function name, a pair of parentheses for optional parameters, and a colon to indicate the start of the function block. The function block is indented to define the code that makes up the function's body."
   ]
  },
  {
   "cell_type": "code",
   "execution_count": 4,
   "metadata": {
    "id": "hxjsdnO1vAkX"
   },
   "outputs": [],
   "source": [
    "def greet():    # greet is a function name\n",
    "  print(\"Hello, there!\")"
   ]
  },
  {
   "cell_type": "code",
   "execution_count": 5,
   "metadata": {
    "colab": {
     "base_uri": "https://localhost:8080/"
    },
    "id": "mbnfHxITwACL",
    "outputId": "18d3e37b-1306-4a3a-a112-cb619814ca60"
   },
   "outputs": [
    {
     "name": "stdout",
     "output_type": "stream",
     "text": [
      "Hello, there!\n"
     ]
    }
   ],
   "source": [
    "greet()"
   ]
  },
  {
   "cell_type": "markdown",
   "metadata": {
    "id": "eHfi0YMDwIeK"
   },
   "source": [
    "Q4. What is the difference between a function and a function call?\n",
    "\n",
    "Ans - Function - A function is a block of reusable code that performs a specific task or a series of actions.\n",
    "It is defined using the def statement in Python and consists of a function name, optional parameters, and a function body.\n",
    "Functions can accept input parameters, perform computations, manipulate data, and optionally return a value.\n",
    "\n",
    "Function call - A function call is an instruction that tells the program to execute the code inside a specific function.\n",
    "It invokes the function and provides the necessary arguments (if any) to be passed to the function's parameters.\n",
    "Function calls are made using the function name followed by parentheses and any required arguments inside the parentheses."
   ]
  },
  {
   "cell_type": "markdown",
   "metadata": {
    "id": "Hame8QOQwnLw"
   },
   "source": []
  },
  {
   "cell_type": "markdown",
   "metadata": {
    "id": "SrICbLgxwnWH"
   },
   "source": [
    "Q5. How many global scopes are there in a Python program? How many local scopes?\n",
    "\n",
    "Ans - There is one global scope, and a local scope is created whenever a function is called."
   ]
  },
  {
   "cell_type": "markdown",
   "metadata": {
    "id": "Yv6ZxW-5xHIE"
   },
   "source": [
    "Q6. What happens to variables in a local scope when the function call returns?\n",
    "\n",
    "Ans -When a function returns, the local scope is destroyed, and all the variables in it are forgotten."
   ]
  },
  {
   "cell_type": "markdown",
   "metadata": {
    "id": "_mYL4sHrxY_p"
   },
   "source": [
    "Q7. What is the concept of a return value? Is it possible to have a return value in an expression?\n",
    "\n",
    "Ans - A return value is the value that a function call evaluates to. Like any value, a return value can be used as part of an expression.\n",
    "\n"
   ]
  },
  {
   "cell_type": "code",
   "execution_count": 6,
   "metadata": {
    "colab": {
     "base_uri": "https://localhost:8080/"
    },
    "id": "0Tmmu_xNwEQl",
    "outputId": "c5125035-6ba4-4c4f-8a56-42565464d513"
   },
   "outputs": [
    {
     "name": "stdout",
     "output_type": "stream",
     "text": [
      "8\n"
     ]
    }
   ],
   "source": [
    "def add_numbers(a, b):\n",
    "    result = a + b\n",
    "    return result\n",
    "\n",
    "sum = add_numbers(3, 5)\n",
    "print(sum)  # Output: 8"
   ]
  },
  {
   "cell_type": "markdown",
   "metadata": {
    "id": "JwaH7O4XxsQZ"
   },
   "source": [
    "Q8. If a function does not have a return statement, what is the return value of a call to that function?\n",
    "\n",
    "Ans - If there is no return statement for a function, its return value is None."
   ]
  },
  {
   "cell_type": "code",
   "execution_count": 7,
   "metadata": {
    "colab": {
     "base_uri": "https://localhost:8080/"
    },
    "id": "L9ZsGmWexqv2",
    "outputId": "20f634c2-2ebb-4393-b032-d69192c7af42"
   },
   "outputs": [
    {
     "name": "stdout",
     "output_type": "stream",
     "text": [
      "Hello, there!\n",
      "None\n"
     ]
    }
   ],
   "source": [
    "def greet():\n",
    "    print(\"Hello, there!\")\n",
    "\n",
    "result = greet()\n",
    "print(result)  # Output: None"
   ]
  },
  {
   "cell_type": "markdown",
   "metadata": {
    "id": "e6oSs_avyLk6"
   },
   "source": [
    "Q9. How do you make a function variable refer to the global variable?\n",
    "\n",
    "Ans - A global statement will force a variable in a function to refer to the global variable."
   ]
  },
  {
   "cell_type": "code",
   "execution_count": 8,
   "metadata": {
    "colab": {
     "base_uri": "https://localhost:8080/"
    },
    "id": "1bSaGE2Ux_tJ",
    "outputId": "93707a0d-9015-45b3-fccc-3851da75053f"
   },
   "outputs": [
    {
     "name": "stdout",
     "output_type": "stream",
     "text": [
      "Before function call: 10\n",
      "After function call: 20\n"
     ]
    }
   ],
   "source": [
    "x = 10  # Global variable\n",
    "\n",
    "def modify_global_variable():\n",
    "    global x  # Declare 'x' as a global variable\n",
    "    x = 20  # Modify the global variable 'x' inside the function\n",
    "\n",
    "print(\"Before function call:\", x)  # Output: 10\n",
    "modify_global_variable()\n",
    "print(\"After function call:\", x)  # Output: 20"
   ]
  },
  {
   "cell_type": "markdown",
   "metadata": {
    "id": "cz3axwcOygkI"
   },
   "source": [
    "Q10. What is the data type of None?\n",
    "\n",
    "Ans- The data type of None is NoneType."
   ]
  },
  {
   "cell_type": "code",
   "execution_count": 9,
   "metadata": {
    "colab": {
     "base_uri": "https://localhost:8080/"
    },
    "id": "VE9rvkJMyeH8",
    "outputId": "6fbb2320-7ce8-4be8-d673-87e91a46c605"
   },
   "outputs": [
    {
     "name": "stdout",
     "output_type": "stream",
     "text": [
      "<class 'NoneType'>\n"
     ]
    }
   ],
   "source": [
    "value = None\n",
    "print(type(value))"
   ]
  },
  {
   "cell_type": "markdown",
   "metadata": {
    "id": "dQzATyW-yziD"
   },
   "source": [
    "Q11. What does the sentence import areallyourpetsnamederic do?\n",
    "\n",
    "Ans - areallyourpetsnamederic is not a standard Python module or package.ModuleNotFoundError indicating that the module areallyourpetsnamederic does not exist.it does not serve any specific purpose or import any functionality from an existing module.    import areallyourpetsnamederic"
   ]
  },
  {
   "cell_type": "code",
   "execution_count": null,
   "metadata": {
    "colab": {
     "base_uri": "https://localhost:8080/",
     "height": 304
    },
    "id": "8IaXMWmdywNx",
    "outputId": "da6a93d0-8d9f-4fc8-e14b-49e4bc141449"
   },
   "outputs": [],
   "source": []
  },
  {
   "cell_type": "code",
   "execution_count": null,
   "metadata": {
    "colab": {
     "base_uri": "https://localhost:8080/"
    },
    "id": "OxZkAksWzNP4",
    "outputId": "daee132c-251c-4ffa-b5d0-7d888cd3a17e"
   },
   "outputs": [],
   "source": []
  },
  {
   "cell_type": "markdown",
   "metadata": {
    "id": "x5AbWmvrztfu"
   },
   "source": [
    "Q12. If you had a bacon() feature in a spam module, what would you call it after importing spam?\n",
    "\n",
    "Ans- This function can be called with spam.bacon().\n"
   ]
  },
  {
   "cell_type": "code",
   "execution_count": null,
   "metadata": {
    "colab": {
     "base_uri": "https://localhost:8080/",
     "height": 339
    },
    "id": "SEclpbUpzqPr",
    "outputId": "14bb6c86-2c0c-4b53-fdca-f716d7e6ac8f"
   },
   "outputs": [],
   "source": [
    "import spam\n",
    "\n",
    "spam.bacon()"
   ]
  },
  {
   "cell_type": "code",
   "execution_count": null,
   "metadata": {},
   "outputs": [],
   "source": []
  },
  {
   "cell_type": "markdown",
   "metadata": {
    "id": "RxyjWQFt0MJl"
   },
   "source": [
    "Q13. What can you do to save a programme from crashing if it encounters an error?\n",
    "\n",
    "Ans- To prevent a program from crashing when it encounters an error, you can implement error handling techniques\n",
    "1. Use try-except blocks,\n",
    "  Catch specific exceptions,\n",
    "  Use finally block.\n",
    "\n"
   ]
  },
  {
   "cell_type": "markdown",
   "metadata": {
    "id": "TDk6Z5hm0zY8"
   },
   "source": [
    "Q14. What is the purpose of the try clause? What is the purpose of the except clause?\n",
    "\n",
    "Ans- The purpose of the except clause is to specify the code that should be executed when a specific exception occurs within the corresponding try block. Each except clause is associated with a specific exception type, and if that type of exception occurs, the code within the corresponding except block is executed.\n",
    "The code that could potentially cause an error goes in the try clause.\n",
    "The code that executes if an error happens goes in the except clause."
   ]
  },
  {
   "cell_type": "code",
   "execution_count": null,
   "metadata": {
    "id": "sNwpTvCM0EXw"
   },
   "outputs": [],
   "source": []
  }
 ],
 "metadata": {
  "colab": {
   "provenance": []
  },
  "kernelspec": {
   "display_name": "Python 3 (ipykernel)",
   "language": "python",
   "name": "python3"
  },
  "language_info": {
   "codemirror_mode": {
    "name": "ipython",
    "version": 3
   },
   "file_extension": ".py",
   "mimetype": "text/x-python",
   "name": "python",
   "nbconvert_exporter": "python",
   "pygments_lexer": "ipython3",
   "version": "3.10.9"
  }
 },
 "nbformat": 4,
 "nbformat_minor": 1
}
